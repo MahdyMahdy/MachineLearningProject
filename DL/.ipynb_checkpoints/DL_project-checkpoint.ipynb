{
 "cells": [
  {
   "cell_type": "code",
   "execution_count": 1,
   "metadata": {},
   "outputs": [],
   "source": [
    "import pandas as pd\n",
    "import numpy as np \n",
    "import matplotlib.pyplot as plt\n",
    "import sklearn\n",
    "import re\n",
    "\n",
    "from sklearn.feature_extraction.text import TfidfVectorizer\n",
    "from sklearn.model_selection import train_test_split\n",
    "from sklearn.metrics import mean_squared_error as mse\n",
    "from sklearn.metrics import f1_score,accuracy_score,precision_score,recall_score\n",
    "from math import sqrt\n",
    "\n",
    "import keras\n",
    "from keras.models import Sequential\n",
    "from keras.layers import Dense \n",
    "import tensorflow as tf"
   ]
  },
  {
   "cell_type": "code",
   "execution_count": 2,
   "metadata": {},
   "outputs": [],
   "source": [
    "data = pd.read_csv(\"processed_data.csv\",index_col=0)"
   ]
  },
  {
   "cell_type": "code",
   "execution_count": 3,
   "metadata": {},
   "outputs": [
    {
     "data": {
      "text/html": [
       "<div>\n",
       "<style scoped>\n",
       "    .dataframe tbody tr th:only-of-type {\n",
       "        vertical-align: middle;\n",
       "    }\n",
       "\n",
       "    .dataframe tbody tr th {\n",
       "        vertical-align: top;\n",
       "    }\n",
       "\n",
       "    .dataframe thead th {\n",
       "        text-align: right;\n",
       "    }\n",
       "</style>\n",
       "<table border=\"1\" class=\"dataframe\">\n",
       "  <thead>\n",
       "    <tr style=\"text-align: right;\">\n",
       "      <th></th>\n",
       "      <th>overview</th>\n",
       "      <th>Action</th>\n",
       "      <th>Adventure</th>\n",
       "      <th>Animation</th>\n",
       "      <th>Comedy</th>\n",
       "      <th>Crime</th>\n",
       "      <th>Documentary</th>\n",
       "      <th>Drama</th>\n",
       "      <th>Family</th>\n",
       "      <th>Fantasy</th>\n",
       "      <th>...</th>\n",
       "      <th>History</th>\n",
       "      <th>Horror</th>\n",
       "      <th>Music</th>\n",
       "      <th>Mystery</th>\n",
       "      <th>Romance</th>\n",
       "      <th>Science Fiction</th>\n",
       "      <th>TV Movie</th>\n",
       "      <th>Thriller</th>\n",
       "      <th>War</th>\n",
       "      <th>Western</th>\n",
       "    </tr>\n",
       "  </thead>\n",
       "  <tbody>\n",
       "    <tr>\n",
       "      <th>0</th>\n",
       "      <td>taisto kasurinen finnish coal miner whose fath...</td>\n",
       "      <td>0</td>\n",
       "      <td>0</td>\n",
       "      <td>0</td>\n",
       "      <td>0</td>\n",
       "      <td>1</td>\n",
       "      <td>0</td>\n",
       "      <td>1</td>\n",
       "      <td>0</td>\n",
       "      <td>0</td>\n",
       "      <td>...</td>\n",
       "      <td>0</td>\n",
       "      <td>0</td>\n",
       "      <td>0</td>\n",
       "      <td>0</td>\n",
       "      <td>0</td>\n",
       "      <td>0</td>\n",
       "      <td>0</td>\n",
       "      <td>0</td>\n",
       "      <td>0</td>\n",
       "      <td>0</td>\n",
       "    </tr>\n",
       "    <tr>\n",
       "      <th>1</th>\n",
       "      <td>episod life nikand</td>\n",
       "      <td>0</td>\n",
       "      <td>0</td>\n",
       "      <td>0</td>\n",
       "      <td>1</td>\n",
       "      <td>0</td>\n",
       "      <td>0</td>\n",
       "      <td>1</td>\n",
       "      <td>0</td>\n",
       "      <td>0</td>\n",
       "      <td>...</td>\n",
       "      <td>0</td>\n",
       "      <td>0</td>\n",
       "      <td>0</td>\n",
       "      <td>0</td>\n",
       "      <td>0</td>\n",
       "      <td>0</td>\n",
       "      <td>0</td>\n",
       "      <td>0</td>\n",
       "      <td>0</td>\n",
       "      <td>0</td>\n",
       "    </tr>\n",
       "    <tr>\n",
       "      <th>2</th>\n",
       "      <td>ted bellhop first night job hotel unusu guest ...</td>\n",
       "      <td>0</td>\n",
       "      <td>0</td>\n",
       "      <td>0</td>\n",
       "      <td>1</td>\n",
       "      <td>1</td>\n",
       "      <td>0</td>\n",
       "      <td>0</td>\n",
       "      <td>0</td>\n",
       "      <td>0</td>\n",
       "      <td>...</td>\n",
       "      <td>0</td>\n",
       "      <td>0</td>\n",
       "      <td>0</td>\n",
       "      <td>0</td>\n",
       "      <td>0</td>\n",
       "      <td>0</td>\n",
       "      <td>0</td>\n",
       "      <td>0</td>\n",
       "      <td>0</td>\n",
       "      <td>0</td>\n",
       "    </tr>\n",
       "    <tr>\n",
       "      <th>3</th>\n",
       "      <td>princess leia captur held hostag evil imperi f...</td>\n",
       "      <td>1</td>\n",
       "      <td>1</td>\n",
       "      <td>0</td>\n",
       "      <td>0</td>\n",
       "      <td>0</td>\n",
       "      <td>0</td>\n",
       "      <td>0</td>\n",
       "      <td>0</td>\n",
       "      <td>0</td>\n",
       "      <td>...</td>\n",
       "      <td>0</td>\n",
       "      <td>0</td>\n",
       "      <td>0</td>\n",
       "      <td>0</td>\n",
       "      <td>0</td>\n",
       "      <td>1</td>\n",
       "      <td>0</td>\n",
       "      <td>0</td>\n",
       "      <td>0</td>\n",
       "      <td>0</td>\n",
       "    </tr>\n",
       "    <tr>\n",
       "      <th>4</th>\n",
       "      <td>nemo</td>\n",
       "      <td>0</td>\n",
       "      <td>0</td>\n",
       "      <td>1</td>\n",
       "      <td>0</td>\n",
       "      <td>0</td>\n",
       "      <td>0</td>\n",
       "      <td>0</td>\n",
       "      <td>1</td>\n",
       "      <td>0</td>\n",
       "      <td>...</td>\n",
       "      <td>0</td>\n",
       "      <td>0</td>\n",
       "      <td>0</td>\n",
       "      <td>0</td>\n",
       "      <td>0</td>\n",
       "      <td>0</td>\n",
       "      <td>0</td>\n",
       "      <td>0</td>\n",
       "      <td>0</td>\n",
       "      <td>0</td>\n",
       "    </tr>\n",
       "  </tbody>\n",
       "</table>\n",
       "<p>5 rows × 21 columns</p>\n",
       "</div>"
      ],
      "text/plain": [
       "                                            overview  Action  Adventure  \\\n",
       "0  taisto kasurinen finnish coal miner whose fath...       0          0   \n",
       "1                                 episod life nikand       0          0   \n",
       "2  ted bellhop first night job hotel unusu guest ...       0          0   \n",
       "3  princess leia captur held hostag evil imperi f...       1          1   \n",
       "4                                               nemo       0          0   \n",
       "\n",
       "   Animation  Comedy  Crime  Documentary  Drama  Family  Fantasy  ...  \\\n",
       "0          0       0      1            0      1       0        0  ...   \n",
       "1          0       1      0            0      1       0        0  ...   \n",
       "2          0       1      1            0      0       0        0  ...   \n",
       "3          0       0      0            0      0       0        0  ...   \n",
       "4          1       0      0            0      0       1        0  ...   \n",
       "\n",
       "   History  Horror  Music  Mystery  Romance  Science Fiction  TV Movie  \\\n",
       "0        0       0      0        0        0                0         0   \n",
       "1        0       0      0        0        0                0         0   \n",
       "2        0       0      0        0        0                0         0   \n",
       "3        0       0      0        0        0                1         0   \n",
       "4        0       0      0        0        0                0         0   \n",
       "\n",
       "   Thriller  War  Western  \n",
       "0         0    0        0  \n",
       "1         0    0        0  \n",
       "2         0    0        0  \n",
       "3         0    0        0  \n",
       "4         0    0        0  \n",
       "\n",
       "[5 rows x 21 columns]"
      ]
     },
     "execution_count": 3,
     "metadata": {},
     "output_type": "execute_result"
    }
   ],
   "source": [
    "data.head()"
   ]
  },
  {
   "cell_type": "code",
   "execution_count": 4,
   "metadata": {},
   "outputs": [
    {
     "ename": "KeyError",
     "evalue": "'movie_info'",
     "output_type": "error",
     "traceback": [
      "\u001b[1;31m---------------------------------------------------------------------------\u001b[0m",
      "\u001b[1;31mKeyError\u001b[0m                                  Traceback (most recent call last)",
      "\u001b[1;32mC:\\ProgramData\\Anaconda3\\lib\\site-packages\\pandas\\core\\indexes\\base.py\u001b[0m in \u001b[0;36mget_loc\u001b[1;34m(self, key, method, tolerance)\u001b[0m\n\u001b[0;32m   2894\u001b[0m             \u001b[1;32mtry\u001b[0m\u001b[1;33m:\u001b[0m\u001b[1;33m\u001b[0m\u001b[1;33m\u001b[0m\u001b[0m\n\u001b[1;32m-> 2895\u001b[1;33m                 \u001b[1;32mreturn\u001b[0m \u001b[0mself\u001b[0m\u001b[1;33m.\u001b[0m\u001b[0m_engine\u001b[0m\u001b[1;33m.\u001b[0m\u001b[0mget_loc\u001b[0m\u001b[1;33m(\u001b[0m\u001b[0mcasted_key\u001b[0m\u001b[1;33m)\u001b[0m\u001b[1;33m\u001b[0m\u001b[1;33m\u001b[0m\u001b[0m\n\u001b[0m\u001b[0;32m   2896\u001b[0m             \u001b[1;32mexcept\u001b[0m \u001b[0mKeyError\u001b[0m \u001b[1;32mas\u001b[0m \u001b[0merr\u001b[0m\u001b[1;33m:\u001b[0m\u001b[1;33m\u001b[0m\u001b[1;33m\u001b[0m\u001b[0m\n",
      "\u001b[1;32mpandas\\_libs\\index.pyx\u001b[0m in \u001b[0;36mpandas._libs.index.IndexEngine.get_loc\u001b[1;34m()\u001b[0m\n",
      "\u001b[1;32mpandas\\_libs\\index.pyx\u001b[0m in \u001b[0;36mpandas._libs.index.IndexEngine.get_loc\u001b[1;34m()\u001b[0m\n",
      "\u001b[1;32mpandas\\_libs\\hashtable_class_helper.pxi\u001b[0m in \u001b[0;36mpandas._libs.hashtable.PyObjectHashTable.get_item\u001b[1;34m()\u001b[0m\n",
      "\u001b[1;32mpandas\\_libs\\hashtable_class_helper.pxi\u001b[0m in \u001b[0;36mpandas._libs.hashtable.PyObjectHashTable.get_item\u001b[1;34m()\u001b[0m\n",
      "\u001b[1;31mKeyError\u001b[0m: 'movie_info'",
      "\nThe above exception was the direct cause of the following exception:\n",
      "\u001b[1;31mKeyError\u001b[0m                                  Traceback (most recent call last)",
      "\u001b[1;32m<ipython-input-4-d63d9096ada4>\u001b[0m in \u001b[0;36m<module>\u001b[1;34m\u001b[0m\n\u001b[1;32m----> 1\u001b[1;33m \u001b[0minfos\u001b[0m \u001b[1;33m=\u001b[0m \u001b[0mdata\u001b[0m\u001b[1;33m[\u001b[0m\u001b[1;34m\"movie_info\"\u001b[0m\u001b[1;33m]\u001b[0m\u001b[1;33m\u001b[0m\u001b[1;33m\u001b[0m\u001b[0m\n\u001b[0m\u001b[0;32m      2\u001b[0m \u001b[0mtargets\u001b[0m \u001b[1;33m=\u001b[0m \u001b[0mdata\u001b[0m\u001b[1;33m.\u001b[0m\u001b[0mdrop\u001b[0m\u001b[1;33m(\u001b[0m\u001b[1;34m\"movie_info\"\u001b[0m\u001b[1;33m,\u001b[0m\u001b[0maxis\u001b[0m\u001b[1;33m=\u001b[0m\u001b[1;36m1\u001b[0m\u001b[1;33m)\u001b[0m\u001b[1;33m\u001b[0m\u001b[1;33m\u001b[0m\u001b[0m\n",
      "\u001b[1;32mC:\\ProgramData\\Anaconda3\\lib\\site-packages\\pandas\\core\\frame.py\u001b[0m in \u001b[0;36m__getitem__\u001b[1;34m(self, key)\u001b[0m\n\u001b[0;32m   2900\u001b[0m             \u001b[1;32mif\u001b[0m \u001b[0mself\u001b[0m\u001b[1;33m.\u001b[0m\u001b[0mcolumns\u001b[0m\u001b[1;33m.\u001b[0m\u001b[0mnlevels\u001b[0m \u001b[1;33m>\u001b[0m \u001b[1;36m1\u001b[0m\u001b[1;33m:\u001b[0m\u001b[1;33m\u001b[0m\u001b[1;33m\u001b[0m\u001b[0m\n\u001b[0;32m   2901\u001b[0m                 \u001b[1;32mreturn\u001b[0m \u001b[0mself\u001b[0m\u001b[1;33m.\u001b[0m\u001b[0m_getitem_multilevel\u001b[0m\u001b[1;33m(\u001b[0m\u001b[0mkey\u001b[0m\u001b[1;33m)\u001b[0m\u001b[1;33m\u001b[0m\u001b[1;33m\u001b[0m\u001b[0m\n\u001b[1;32m-> 2902\u001b[1;33m             \u001b[0mindexer\u001b[0m \u001b[1;33m=\u001b[0m \u001b[0mself\u001b[0m\u001b[1;33m.\u001b[0m\u001b[0mcolumns\u001b[0m\u001b[1;33m.\u001b[0m\u001b[0mget_loc\u001b[0m\u001b[1;33m(\u001b[0m\u001b[0mkey\u001b[0m\u001b[1;33m)\u001b[0m\u001b[1;33m\u001b[0m\u001b[1;33m\u001b[0m\u001b[0m\n\u001b[0m\u001b[0;32m   2903\u001b[0m             \u001b[1;32mif\u001b[0m \u001b[0mis_integer\u001b[0m\u001b[1;33m(\u001b[0m\u001b[0mindexer\u001b[0m\u001b[1;33m)\u001b[0m\u001b[1;33m:\u001b[0m\u001b[1;33m\u001b[0m\u001b[1;33m\u001b[0m\u001b[0m\n\u001b[0;32m   2904\u001b[0m                 \u001b[0mindexer\u001b[0m \u001b[1;33m=\u001b[0m \u001b[1;33m[\u001b[0m\u001b[0mindexer\u001b[0m\u001b[1;33m]\u001b[0m\u001b[1;33m\u001b[0m\u001b[1;33m\u001b[0m\u001b[0m\n",
      "\u001b[1;32mC:\\ProgramData\\Anaconda3\\lib\\site-packages\\pandas\\core\\indexes\\base.py\u001b[0m in \u001b[0;36mget_loc\u001b[1;34m(self, key, method, tolerance)\u001b[0m\n\u001b[0;32m   2895\u001b[0m                 \u001b[1;32mreturn\u001b[0m \u001b[0mself\u001b[0m\u001b[1;33m.\u001b[0m\u001b[0m_engine\u001b[0m\u001b[1;33m.\u001b[0m\u001b[0mget_loc\u001b[0m\u001b[1;33m(\u001b[0m\u001b[0mcasted_key\u001b[0m\u001b[1;33m)\u001b[0m\u001b[1;33m\u001b[0m\u001b[1;33m\u001b[0m\u001b[0m\n\u001b[0;32m   2896\u001b[0m             \u001b[1;32mexcept\u001b[0m \u001b[0mKeyError\u001b[0m \u001b[1;32mas\u001b[0m \u001b[0merr\u001b[0m\u001b[1;33m:\u001b[0m\u001b[1;33m\u001b[0m\u001b[1;33m\u001b[0m\u001b[0m\n\u001b[1;32m-> 2897\u001b[1;33m                 \u001b[1;32mraise\u001b[0m \u001b[0mKeyError\u001b[0m\u001b[1;33m(\u001b[0m\u001b[0mkey\u001b[0m\u001b[1;33m)\u001b[0m \u001b[1;32mfrom\u001b[0m \u001b[0merr\u001b[0m\u001b[1;33m\u001b[0m\u001b[1;33m\u001b[0m\u001b[0m\n\u001b[0m\u001b[0;32m   2898\u001b[0m \u001b[1;33m\u001b[0m\u001b[0m\n\u001b[0;32m   2899\u001b[0m         \u001b[1;32mif\u001b[0m \u001b[0mtolerance\u001b[0m \u001b[1;32mis\u001b[0m \u001b[1;32mnot\u001b[0m \u001b[1;32mNone\u001b[0m\u001b[1;33m:\u001b[0m\u001b[1;33m\u001b[0m\u001b[1;33m\u001b[0m\u001b[0m\n",
      "\u001b[1;31mKeyError\u001b[0m: 'movie_info'"
     ]
    }
   ],
   "source": [
    "infos = data[\"movie_info\"]\n",
    "targets = data.drop(\"movie_info\",axis=1)"
   ]
  },
  {
   "cell_type": "code",
   "execution_count": 5,
   "metadata": {},
   "outputs": [],
   "source": [
    "def clean_text(text):\n",
    "    text = re.sub(\"\\'\", \"\", text) \n",
    "    text = re.sub(\"[^a-zA-Z]\",\" \",text) \n",
    "    text = ' '.join(text.split()) \n",
    "    text = text.lower() \n",
    "    \n",
    "    return text"
   ]
  },
  {
   "cell_type": "code",
   "execution_count": 6,
   "metadata": {},
   "outputs": [],
   "source": [
    "def clean_data(data):\n",
    "    return data.apply(lambda x:clean_text(x))"
   ]
  },
  {
   "cell_type": "code",
   "execution_count": 7,
   "metadata": {},
   "outputs": [],
   "source": [
    "def transform_data(data):\n",
    "    data = clean_data(data)\n",
    "    tfidf = TfidfVectorizer(stop_words='english')\n",
    "    matrix = tfidf.fit_transform(data)\n",
    "    return matrix,tfidf"
   ]
  },
  {
   "cell_type": "code",
   "execution_count": 8,
   "metadata": {},
   "outputs": [],
   "source": [
    "sparse_matrix,tfdif = transform_data(infos)"
   ]
  },
  {
   "cell_type": "code",
   "execution_count": 9,
   "metadata": {},
   "outputs": [],
   "source": [
    "x_train, x_test, y_train, y_test = train_test_split(sparse_matrix, targets, test_size=0.2, random_state=1)"
   ]
  },
  {
   "cell_type": "code",
   "execution_count": 10,
   "metadata": {},
   "outputs": [
    {
     "data": {
      "text/plain": [
       "(13889, 45160)"
      ]
     },
     "execution_count": 10,
     "metadata": {},
     "output_type": "execute_result"
    }
   ],
   "source": [
    "x_train.shape"
   ]
  },
  {
   "cell_type": "code",
   "execution_count": 11,
   "metadata": {},
   "outputs": [
    {
     "data": {
      "text/plain": [
       "(13889, 14)"
      ]
     },
     "execution_count": 11,
     "metadata": {},
     "output_type": "execute_result"
    }
   ],
   "source": [
    "y_train.shape"
   ]
  },
  {
   "cell_type": "code",
   "execution_count": 17,
   "metadata": {},
   "outputs": [],
   "source": [
    "Sequential()."
   ]
  },
  {
   "cell_type": "code",
   "execution_count": 181,
   "metadata": {},
   "outputs": [],
   "source": [
    "def build_model(nb_inputs,nb_outputs):\n",
    "    model = Sequential()\n",
    "    model.add(Dense(1024,activation=\"relu\",input_dim=nb_inputs))\n",
    "    model.add(Dense(512,activation=\"relu\"))\n",
    "    model.add(Dense(256,activation=\"relu\"))\n",
    "    model.add(Dense(128,activation=\"relu\"))\n",
    "    model.add(Dense(64,activation=\"relu\"))\n",
    "    model.add(Dense(32,activation=\"relu\"))\n",
    "    model.add(Dense(nb_outputs,activation=\"sigmoid\"))\n",
    "    model.compile(optimizer=tf.keras.optimizers.Adam(0.001), \n",
    "              loss='binary_crossentropy', \n",
    "              metrics=['categorical_accuracy'])\n",
    "    return model"
   ]
  },
  {
   "cell_type": "code",
   "execution_count": 182,
   "metadata": {},
   "outputs": [],
   "source": [
    "model = build_model(x_train.shape[1],y_train.shape[1])"
   ]
  },
  {
   "cell_type": "code",
   "execution_count": 183,
   "metadata": {},
   "outputs": [
    {
     "name": "stdout",
     "output_type": "stream",
     "text": [
      "Epoch 1/10\n",
      "223/223 [==============================] - 68s 288ms/step - loss: 0.3929 - categorical_accuracy: 0.2129 - val_loss: 0.3429 - val_categorical_accuracy: 0.2793\n",
      "Epoch 2/10\n",
      "223/223 [==============================] - 57s 257ms/step - loss: 0.2724 - categorical_accuracy: 0.4379 - val_loss: 0.3048 - val_categorical_accuracy: 0.4057\n",
      "Epoch 3/10\n",
      "223/223 [==============================] - 57s 254ms/step - loss: 0.1636 - categorical_accuracy: 0.5835 - val_loss: 0.3440 - val_categorical_accuracy: 0.3924\n",
      "Epoch 4/10\n",
      "223/223 [==============================] - 56s 251ms/step - loss: 0.0975 - categorical_accuracy: 0.6081 - val_loss: 0.4526 - val_categorical_accuracy: 0.3988\n",
      "Epoch 5/10\n",
      "223/223 [==============================] - 60s 269ms/step - loss: 0.0650 - categorical_accuracy: 0.5910 - val_loss: 0.5607 - val_categorical_accuracy: 0.3902\n",
      "Epoch 6/10\n",
      "223/223 [==============================] - 57s 253ms/step - loss: 0.0478 - categorical_accuracy: 0.5967 - val_loss: 0.6565 - val_categorical_accuracy: 0.3805\n",
      "Epoch 7/10\n",
      "223/223 [==============================] - 54s 243ms/step - loss: 0.0353 - categorical_accuracy: 0.6131 - val_loss: 0.8111 - val_categorical_accuracy: 0.3891\n",
      "Epoch 8/10\n",
      "223/223 [==============================] - 61s 272ms/step - loss: 0.0294 - categorical_accuracy: 0.6066 - val_loss: 0.8145 - val_categorical_accuracy: 0.3744\n",
      "Epoch 9/10\n",
      "223/223 [==============================] - 55s 249ms/step - loss: 0.0240 - categorical_accuracy: 0.6118 - val_loss: 0.9172 - val_categorical_accuracy: 0.4006\n",
      "Epoch 10/10\n",
      "223/223 [==============================] - 54s 242ms/step - loss: 0.0228 - categorical_accuracy: 0.6128 - val_loss: 0.9733 - val_categorical_accuracy: 0.4039\n"
     ]
    },
    {
     "data": {
      "text/plain": [
       "<keras.callbacks.History at 0x211ffa00d00>"
      ]
     },
     "execution_count": 183,
     "metadata": {},
     "output_type": "execute_result"
    }
   ],
   "source": [
    "model.fit(x_train.todense(),y_train,epochs=10,batch_size=50,validation_split=0.2)"
   ]
  },
  {
   "cell_type": "code",
   "execution_count": 184,
   "metadata": {},
   "outputs": [
    {
     "name": "stdout",
     "output_type": "stream",
     "text": [
      "109/109 [==============================] - 6s 58ms/step - loss: 0.9960 - categorical_accuracy: 0.3925\n"
     ]
    },
    {
     "data": {
      "text/plain": [
       "[0.9960055351257324, 0.3924560844898224]"
      ]
     },
     "execution_count": 184,
     "metadata": {},
     "output_type": "execute_result"
    }
   ],
   "source": [
    "model.evaluate(x_test.todense(),y_test)"
   ]
  },
  {
   "cell_type": "code",
   "execution_count": 185,
   "metadata": {},
   "outputs": [],
   "source": [
    "y_pred= model.predict(x_test.todense()) "
   ]
  },
  {
   "cell_type": "code",
   "execution_count": 186,
   "metadata": {},
   "outputs": [],
   "source": [
    "def to_score(y_pred,p):\n",
    "    y_pred_scores = y_pred.copy()\n",
    "    for row in y_pred_scores:\n",
    "        m = row.max()\n",
    "        row[row>=m*p]=1\n",
    "        row[row!=1]=0\n",
    "    return y_pred_scores"
   ]
  },
  {
   "cell_type": "code",
   "execution_count": 208,
   "metadata": {},
   "outputs": [],
   "source": [
    "y_pred_scores = to_score(y_pred,0.9)"
   ]
  },
  {
   "cell_type": "code",
   "execution_count": 209,
   "metadata": {},
   "outputs": [],
   "source": [
    "genres = data.columns[1:]"
   ]
  },
  {
   "cell_type": "code",
   "execution_count": 210,
   "metadata": {},
   "outputs": [
    {
     "name": "stdout",
     "output_type": "stream",
     "text": [
      "Action & Adventure\n",
      "Accuracy :  0.8260869565217391\n",
      "Precision :  0.5856777493606138\n",
      "Recall :  0.6205962059620597\n",
      "f1 :  0.6026315789473685 \n",
      "\n",
      "Animation\n",
      "Accuracy :  0.964295997696516\n",
      "Precision :  0.5769230769230769\n",
      "Recall :  0.22727272727272727\n",
      "f1 :  0.3260869565217391 \n",
      "\n",
      "Art House & International\n",
      "Accuracy :  0.8568960552836165\n",
      "Precision :  0.4161849710982659\n",
      "Recall :  0.15384615384615385\n",
      "f1 :  0.22464898595943839 \n",
      "\n",
      "Classics\n",
      "Accuracy :  0.9101641232363951\n",
      "Precision :  0.5935483870967742\n",
      "Recall :  0.2697947214076246\n",
      "f1 :  0.3709677419354838 \n",
      "\n",
      "Comedy\n",
      "Accuracy :  0.7636049524906421\n",
      "Precision :  0.6710526315789473\n",
      "Recall :  0.5067750677506775\n",
      "f1 :  0.577457539886773 \n",
      "\n",
      "Documentary\n",
      "Accuracy :  0.9277281888856896\n",
      "Precision :  0.7341772151898734\n",
      "Recall :  0.581453634085213\n",
      "f1 :  0.648951048951049 \n",
      "\n",
      "Drama\n",
      "Accuracy :  0.683270947307803\n",
      "Precision :  0.7180762852404643\n",
      "Recall :  0.6876654314452091\n",
      "f1 :  0.7025419145484045 \n",
      "\n",
      "Horror\n",
      "Accuracy :  0.9087244457241578\n",
      "Precision :  0.6637168141592921\n",
      "Recall :  0.3836317135549872\n",
      "f1 :  0.486223662884927 \n",
      "\n",
      "Kids & Family\n",
      "Accuracy :  0.9280161243881371\n",
      "Precision :  0.4230769230769231\n",
      "Recall :  0.4036697247706422\n",
      "f1 :  0.41314553990610325 \n",
      "\n",
      "Musical & Performing Arts\n",
      "Accuracy :  0.9378059314713504\n",
      "Precision :  0.4636363636363636\n",
      "Recall :  0.24519230769230768\n",
      "f1 :  0.32075471698113206 \n",
      "\n",
      "Mystery & Suspense\n",
      "Accuracy :  0.8111143103944717\n",
      "Precision :  0.5291970802919708\n",
      "Recall :  0.42151162790697677\n",
      "f1 :  0.4692556634304207 \n",
      "\n",
      "Romance\n",
      "Accuracy :  0.8782032824647279\n",
      "Precision :  0.42777777777777776\n",
      "Recall :  0.19395465994962216\n",
      "f1 :  0.266897746967071 \n",
      "\n",
      "Science Fiction & Fantasy\n",
      "Accuracy :  0.9041174776849985\n",
      "Precision :  0.5526315789473685\n",
      "Recall :  0.407202216066482\n",
      "f1 :  0.46889952153110054 \n",
      "\n",
      "Special Interest\n",
      "Accuracy :  0.9274402533832422\n",
      "Precision :  0.46153846153846156\n",
      "Recall :  0.17142857142857143\n",
      "f1 :  0.25000000000000006 \n",
      "\n"
     ]
    }
   ],
   "source": [
    "for i,genre in enumerate(genres):\n",
    "    accuracy = accuracy_score(y_test.iloc[:,i],y_pred_scores[:,i])\n",
    "    precision = precision_score(y_test.iloc[:,i],y_pred_scores[:,i])\n",
    "    recall = recall_score(y_test.iloc[:,i],y_pred_scores[:,i])\n",
    "    f1 = f1_score(y_test.iloc[:,i],y_pred_scores[:,i])\n",
    "    print(genre)\n",
    "    print(\"Accuracy : \",accuracy)\n",
    "    print(\"Precision : \",precision)\n",
    "    print(\"Recall : \",recall)\n",
    "    print(\"f1 : \",f1,\"\\n\")"
   ]
  },
  {
   "cell_type": "code",
   "execution_count": 205,
   "metadata": {},
   "outputs": [],
   "source": [
    "test_movies={\n",
    "    \"Breaking Bad\":\"When Walter White, a New Mexico chemistry teacher, is diagnosed with Stage III cancer and given a prognosis\\\n",
    "    of only two years left to live. He becomes filled with a sense of fearlessness and an unrelenting desire to secure his \\\n",
    "    family's financial future at any cost as he enters the dangerous world of drugs and crime.\",\n",
    "    \"Game of thrones\":\"Seven noble families fight for control of the mythical land of Westeros. Friction between the houses \\\n",
    "    leads to full-scale war. All while a very ancient evil awakens in the farthest north. Amidst the war, a neglected military \\\n",
    "    order of misfits, the Night's Watch, is all that stands between the realms of men and icy horrors beyond.\"}"
   ]
  },
  {
   "cell_type": "code",
   "execution_count": 206,
   "metadata": {},
   "outputs": [],
   "source": [
    "score = model.predict(tfdif.transform([test_movies[\"Game of thrones\"]]).todense())"
   ]
  },
  {
   "cell_type": "code",
   "execution_count": 207,
   "metadata": {},
   "outputs": [
    {
     "data": {
      "text/plain": [
       "['Action & Adventure', 'Science Fiction & Fantasy']"
      ]
     },
     "execution_count": 207,
     "metadata": {},
     "output_type": "execute_result"
    }
   ],
   "source": [
    "list(genres[(to_score(score,0.95)==1)[0]])"
   ]
  },
  {
   "cell_type": "code",
   "execution_count": null,
   "metadata": {},
   "outputs": [],
   "source": []
  }
 ],
 "metadata": {
  "kernelspec": {
   "display_name": "Python 3",
   "language": "python",
   "name": "python3"
  },
  "language_info": {
   "codemirror_mode": {
    "name": "ipython",
    "version": 3
   },
   "file_extension": ".py",
   "mimetype": "text/x-python",
   "name": "python",
   "nbconvert_exporter": "python",
   "pygments_lexer": "ipython3",
   "version": "3.8.5"
  }
 },
 "nbformat": 4,
 "nbformat_minor": 4
}
