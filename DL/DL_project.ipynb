{
 "cells": [
  {
   "cell_type": "code",
   "execution_count": 1,
   "metadata": {},
   "outputs": [],
   "source": [
    "import pandas as pd\n",
    "import numpy as np \n",
    "import matplotlib.pyplot as plt\n",
    "import sklearn\n",
    "import re\n",
    "\n",
    "from sklearn.feature_extraction.text import TfidfVectorizer\n",
    "from sklearn.model_selection import train_test_split\n",
    "from sklearn.metrics import mean_squared_error as mse\n",
    "from sklearn.metrics import f1_score,accuracy_score,precision_score,recall_score\n",
    "from math import sqrt\n",
    "import nltk\n",
    "\n",
    "import keras\n",
    "from keras.models import Sequential,Model\n",
    "from keras.layers import Dense ,Dropout,Input\n",
    "import tensorflow as tf"
   ]
  },
  {
   "cell_type": "code",
   "execution_count": 2,
   "metadata": {},
   "outputs": [],
   "source": [
    "data = pd.read_csv(\"../datasets/processed_data.csv\",index_col=0)"
   ]
  },
  {
   "cell_type": "code",
   "execution_count": 3,
   "metadata": {},
   "outputs": [
    {
     "data": {
      "text/html": [
       "<div>\n",
       "<style scoped>\n",
       "    .dataframe tbody tr th:only-of-type {\n",
       "        vertical-align: middle;\n",
       "    }\n",
       "\n",
       "    .dataframe tbody tr th {\n",
       "        vertical-align: top;\n",
       "    }\n",
       "\n",
       "    .dataframe thead th {\n",
       "        text-align: right;\n",
       "    }\n",
       "</style>\n",
       "<table border=\"1\" class=\"dataframe\">\n",
       "  <thead>\n",
       "    <tr style=\"text-align: right;\">\n",
       "      <th></th>\n",
       "      <th>movie_info</th>\n",
       "      <th>Action &amp; Adventure</th>\n",
       "      <th>Animation</th>\n",
       "      <th>Art House &amp; International</th>\n",
       "      <th>Classics</th>\n",
       "      <th>Comedy</th>\n",
       "      <th>Documentary</th>\n",
       "      <th>Drama</th>\n",
       "      <th>Horror</th>\n",
       "      <th>Kids &amp; Family</th>\n",
       "      <th>Musical &amp; Performing Arts</th>\n",
       "      <th>Mystery &amp; Suspense</th>\n",
       "      <th>Romance</th>\n",
       "      <th>Science Fiction &amp; Fantasy</th>\n",
       "      <th>Special Interest</th>\n",
       "    </tr>\n",
       "  </thead>\n",
       "  <tbody>\n",
       "    <tr>\n",
       "      <th>0</th>\n",
       "      <td>Always trouble-prone, the life of teenager Per...</td>\n",
       "      <td>1</td>\n",
       "      <td>0</td>\n",
       "      <td>0</td>\n",
       "      <td>0</td>\n",
       "      <td>1</td>\n",
       "      <td>0</td>\n",
       "      <td>1</td>\n",
       "      <td>0</td>\n",
       "      <td>0</td>\n",
       "      <td>0</td>\n",
       "      <td>0</td>\n",
       "      <td>0</td>\n",
       "      <td>1</td>\n",
       "      <td>0</td>\n",
       "    </tr>\n",
       "    <tr>\n",
       "      <th>1</th>\n",
       "      <td>Kate (Catherine Keener) and her husband Alex (...</td>\n",
       "      <td>0</td>\n",
       "      <td>0</td>\n",
       "      <td>0</td>\n",
       "      <td>0</td>\n",
       "      <td>1</td>\n",
       "      <td>0</td>\n",
       "      <td>0</td>\n",
       "      <td>0</td>\n",
       "      <td>0</td>\n",
       "      <td>0</td>\n",
       "      <td>0</td>\n",
       "      <td>0</td>\n",
       "      <td>0</td>\n",
       "      <td>0</td>\n",
       "    </tr>\n",
       "    <tr>\n",
       "      <th>2</th>\n",
       "      <td>A successful, middle-aged Hollywood songwriter...</td>\n",
       "      <td>0</td>\n",
       "      <td>0</td>\n",
       "      <td>0</td>\n",
       "      <td>0</td>\n",
       "      <td>1</td>\n",
       "      <td>0</td>\n",
       "      <td>0</td>\n",
       "      <td>0</td>\n",
       "      <td>0</td>\n",
       "      <td>0</td>\n",
       "      <td>0</td>\n",
       "      <td>1</td>\n",
       "      <td>0</td>\n",
       "      <td>0</td>\n",
       "    </tr>\n",
       "    <tr>\n",
       "      <th>3</th>\n",
       "      <td>Following the closing arguments in a murder tr...</td>\n",
       "      <td>0</td>\n",
       "      <td>0</td>\n",
       "      <td>0</td>\n",
       "      <td>1</td>\n",
       "      <td>0</td>\n",
       "      <td>0</td>\n",
       "      <td>1</td>\n",
       "      <td>0</td>\n",
       "      <td>0</td>\n",
       "      <td>0</td>\n",
       "      <td>0</td>\n",
       "      <td>0</td>\n",
       "      <td>0</td>\n",
       "      <td>0</td>\n",
       "    </tr>\n",
       "    <tr>\n",
       "      <th>4</th>\n",
       "      <td>In 1866, Professor Pierre M. Aronnax (Paul Luk...</td>\n",
       "      <td>1</td>\n",
       "      <td>0</td>\n",
       "      <td>0</td>\n",
       "      <td>0</td>\n",
       "      <td>0</td>\n",
       "      <td>0</td>\n",
       "      <td>1</td>\n",
       "      <td>0</td>\n",
       "      <td>1</td>\n",
       "      <td>0</td>\n",
       "      <td>0</td>\n",
       "      <td>0</td>\n",
       "      <td>0</td>\n",
       "      <td>0</td>\n",
       "    </tr>\n",
       "  </tbody>\n",
       "</table>\n",
       "</div>"
      ],
      "text/plain": [
       "                                          movie_info  Action & Adventure  \\\n",
       "0  Always trouble-prone, the life of teenager Per...                   1   \n",
       "1  Kate (Catherine Keener) and her husband Alex (...                   0   \n",
       "2  A successful, middle-aged Hollywood songwriter...                   0   \n",
       "3  Following the closing arguments in a murder tr...                   0   \n",
       "4  In 1866, Professor Pierre M. Aronnax (Paul Luk...                   1   \n",
       "\n",
       "   Animation  Art House & International  Classics  Comedy  Documentary  Drama  \\\n",
       "0          0                          0         0       1            0      1   \n",
       "1          0                          0         0       1            0      0   \n",
       "2          0                          0         0       1            0      0   \n",
       "3          0                          0         1       0            0      1   \n",
       "4          0                          0         0       0            0      1   \n",
       "\n",
       "   Horror  Kids & Family  Musical & Performing Arts  Mystery & Suspense  \\\n",
       "0       0              0                          0                   0   \n",
       "1       0              0                          0                   0   \n",
       "2       0              0                          0                   0   \n",
       "3       0              0                          0                   0   \n",
       "4       0              1                          0                   0   \n",
       "\n",
       "   Romance  Science Fiction & Fantasy  Special Interest  \n",
       "0        0                          1                 0  \n",
       "1        0                          0                 0  \n",
       "2        1                          0                 0  \n",
       "3        0                          0                 0  \n",
       "4        0                          0                 0  "
      ]
     },
     "execution_count": 3,
     "metadata": {},
     "output_type": "execute_result"
    }
   ],
   "source": [
    "data.head()"
   ]
  },
  {
   "cell_type": "code",
   "execution_count": 4,
   "metadata": {},
   "outputs": [],
   "source": [
    "infos = data[\"movie_info\"]\n",
    "targets = data.drop(\"movie_info\",axis=1)"
   ]
  },
  {
   "cell_type": "code",
   "execution_count": 5,
   "metadata": {},
   "outputs": [],
   "source": [
    "def clean_text(text):\n",
    "    text = re.sub(\"\\'\", \" \", text) \n",
    "    text = re.sub(\"[^a-zA-Z]\",\" \",text) \n",
    "    text = ' '.join(text.split()) \n",
    "    text = text.lower() \n",
    "    return text"
   ]
  },
  {
   "cell_type": "code",
   "execution_count": 6,
   "metadata": {},
   "outputs": [],
   "source": [
    "def clean_data(data):\n",
    "    return data.apply(lambda x:clean_text(x))"
   ]
  },
  {
   "cell_type": "code",
   "execution_count": 7,
   "metadata": {},
   "outputs": [],
   "source": [
    "def transform_data(data):\n",
    "    data = clean_data(data)\n",
    "    tfidf = TfidfVectorizer(stop_words='english')\n",
    "    matrix = tfidf.fit_transform(data)\n",
    "    return matrix,tfidf"
   ]
  },
  {
   "cell_type": "code",
   "execution_count": 8,
   "metadata": {},
   "outputs": [],
   "source": [
    "sparse_matrix,tfdif = transform_data(infos)"
   ]
  },
  {
   "cell_type": "code",
   "execution_count": 9,
   "metadata": {},
   "outputs": [],
   "source": [
    "x_train, x_test, y_train, y_test = train_test_split(sparse_matrix, targets, test_size=0.2, random_state=1)"
   ]
  },
  {
   "cell_type": "code",
   "execution_count": 10,
   "metadata": {},
   "outputs": [
    {
     "data": {
      "text/plain": [
       "(13889, 42950)"
      ]
     },
     "execution_count": 10,
     "metadata": {},
     "output_type": "execute_result"
    }
   ],
   "source": [
    "x_train.shape"
   ]
  },
  {
   "cell_type": "code",
   "execution_count": 11,
   "metadata": {},
   "outputs": [
    {
     "data": {
      "text/plain": [
       "(13889, 14)"
      ]
     },
     "execution_count": 11,
     "metadata": {},
     "output_type": "execute_result"
    }
   ],
   "source": [
    "y_train.shape"
   ]
  },
  {
   "cell_type": "code",
   "execution_count": 12,
   "metadata": {},
   "outputs": [],
   "source": [
    "def build_model(nb_inputs,nb_outputs):\n",
    "    model = Sequential()\n",
    "    model.add(Dense(1024,activation=\"relu\",input_dim=nb_inputs))\n",
    "    model.add(Dense(512,activation=\"relu\"))\n",
    "    model.add(Dense(256,activation=\"relu\"))\n",
    "    model.add(Dense(128,activation=\"relu\"))\n",
    "    model.add(Dense(64,activation=\"relu\"))\n",
    "    model.add(Dense(32,activation=\"relu\"))\n",
    "    model.add(Dense(nb_outputs,activation=\"sigmoid\"))\n",
    "    model.compile(optimizer=tf.keras.optimizers.Adam(0.001), \n",
    "              loss='binary_crossentropy', \n",
    "              metrics=['categorical_accuracy'])\n",
    "    return model"
   ]
  },
  {
   "cell_type": "code",
   "execution_count": 13,
   "metadata": {},
   "outputs": [],
   "source": [
    "def build_model(nb_inputs,nb_outputs):\n",
    "    \n",
    "    inputs = tf.keras.Input(shape=(nb_inputs,))\n",
    "\n",
    "    dense_layer1 = Dense(1024, activation='relu')\n",
    "    x = dense_layer1(inputs)\n",
    "\n",
    "    dropout_layer = Dropout(0.3)\n",
    "    x = dropout_layer(x)\n",
    "    \n",
    "    dense_layer2 = Dense(512, activation='relu')\n",
    "    x = dense_layer2(x)\n",
    "\n",
    "    predictions_layer = Dense(nb_outputs, activation='sigmoid')\n",
    "    predictions = predictions_layer(x)\n",
    "    \n",
    "    model = tf.keras.Model(inputs=inputs, outputs=predictions)\n",
    "    \n",
    "    model.summary()\n",
    "    \n",
    "    model.compile(optimizer=tf.keras.optimizers.Adam(0.01),\n",
    "                  loss=tf.keras.losses.BinaryCrossentropy(),\n",
    "                  metrics=['categorical_accuracy', \n",
    "                           tf.keras.metrics.Precision(0.5),\n",
    "                           tf.keras.metrics.Recall(0.5),])\n",
    "    return model"
   ]
  },
  {
   "cell_type": "code",
   "execution_count": 14,
   "metadata": {},
   "outputs": [
    {
     "name": "stdout",
     "output_type": "stream",
     "text": [
      "Model: \"model\"\n",
      "_________________________________________________________________\n",
      " Layer (type)                Output Shape              Param #   \n",
      "=================================================================\n",
      " input_1 (InputLayer)        [(None, 42950)]           0         \n",
      "                                                                 \n",
      " dense (Dense)               (None, 1024)              43981824  \n",
      "                                                                 \n",
      " dropout (Dropout)           (None, 1024)              0         \n",
      "                                                                 \n",
      " dense_1 (Dense)             (None, 512)               524800    \n",
      "                                                                 \n",
      " dense_2 (Dense)             (None, 14)                7182      \n",
      "                                                                 \n",
      "=================================================================\n",
      "Total params: 44,513,806\n",
      "Trainable params: 44,513,806\n",
      "Non-trainable params: 0\n",
      "_________________________________________________________________\n"
     ]
    }
   ],
   "source": [
    "model = build_model(x_train.shape[1],y_train.shape[1])"
   ]
  },
  {
   "cell_type": "code",
   "execution_count": 15,
   "metadata": {},
   "outputs": [
    {
     "name": "stdout",
     "output_type": "stream",
     "text": [
      "Epoch 1/10\n",
      "56/56 [==============================] - 33s 532ms/step - loss: 0.3505 - categorical_accuracy: 0.3013 - precision: 0.5772 - recall: 0.3205 - val_loss: 0.2791 - val_categorical_accuracy: 0.4302 - val_precision: 0.6896 - val_recall: 0.4856\n",
      "Epoch 2/10\n",
      "56/56 [==============================] - 27s 474ms/step - loss: 0.1711 - categorical_accuracy: 0.5306 - precision: 0.8322 - recall: 0.7005 - val_loss: 0.3028 - val_categorical_accuracy: 0.4215 - val_precision: 0.6601 - val_recall: 0.5174\n",
      "Epoch 3/10\n",
      "56/56 [==============================] - 27s 477ms/step - loss: 0.0564 - categorical_accuracy: 0.6012 - precision: 0.9509 - recall: 0.9174 - val_loss: 0.4358 - val_categorical_accuracy: 0.4158 - val_precision: 0.6106 - val_recall: 0.5585\n",
      "Epoch 4/10\n",
      "56/56 [==============================] - 27s 487ms/step - loss: 0.0251 - categorical_accuracy: 0.5969 - precision: 0.9770 - recall: 0.9676 - val_loss: 0.5789 - val_categorical_accuracy: 0.4017 - val_precision: 0.6299 - val_recall: 0.5204\n",
      "Epoch 5/10\n",
      "56/56 [==============================] - 26s 466ms/step - loss: 0.0125 - categorical_accuracy: 0.6038 - precision: 0.9892 - recall: 0.9836 - val_loss: 0.6896 - val_categorical_accuracy: 0.3942 - val_precision: 0.6266 - val_recall: 0.5381\n",
      "Epoch 6/10\n",
      "56/56 [==============================] - 24s 429ms/step - loss: 0.0092 - categorical_accuracy: 0.6235 - precision: 0.9915 - recall: 0.9885 - val_loss: 0.7307 - val_categorical_accuracy: 0.3952 - val_precision: 0.6146 - val_recall: 0.5186\n",
      "Epoch 7/10\n",
      "56/56 [==============================] - 24s 430ms/step - loss: 0.0081 - categorical_accuracy: 0.6415 - precision: 0.9930 - recall: 0.9901 - val_loss: 0.7921 - val_categorical_accuracy: 0.4165 - val_precision: 0.6103 - val_recall: 0.5394\n",
      "Epoch 8/10\n",
      "56/56 [==============================] - 25s 441ms/step - loss: 0.0095 - categorical_accuracy: 0.6620 - precision: 0.9923 - recall: 0.9891 - val_loss: 0.8426 - val_categorical_accuracy: 0.4129 - val_precision: 0.5870 - val_recall: 0.5400\n",
      "Epoch 9/10\n",
      "56/56 [==============================] - 24s 431ms/step - loss: 0.0106 - categorical_accuracy: 0.6599 - precision: 0.9899 - recall: 0.9879 - val_loss: 0.8648 - val_categorical_accuracy: 0.3985 - val_precision: 0.5866 - val_recall: 0.5448\n",
      "Epoch 10/10\n",
      "56/56 [==============================] - 25s 441ms/step - loss: 0.0150 - categorical_accuracy: 0.6693 - precision: 0.9854 - recall: 0.9845 - val_loss: 0.8575 - val_categorical_accuracy: 0.3952 - val_precision: 0.6158 - val_recall: 0.4991\n"
     ]
    },
    {
     "data": {
      "text/plain": [
       "<keras.callbacks.History at 0x2518007b8b0>"
      ]
     },
     "execution_count": 15,
     "metadata": {},
     "output_type": "execute_result"
    }
   ],
   "source": [
    "model.fit(x_train.todense(),y_train,epochs=10,batch_size=200,validation_split=0.2)"
   ]
  },
  {
   "cell_type": "code",
   "execution_count": 16,
   "metadata": {},
   "outputs": [
    {
     "name": "stdout",
     "output_type": "stream",
     "text": [
      "435/435 [==============================] - 27s 61ms/step - loss: 0.1760 - categorical_accuracy: 0.6125 - precision: 0.9330 - recall: 0.8932\n"
     ]
    },
    {
     "data": {
      "text/plain": [
       "[0.176031693816185, 0.6124991178512573, 0.9329525828361511, 0.8931636810302734]"
      ]
     },
     "execution_count": 16,
     "metadata": {},
     "output_type": "execute_result"
    }
   ],
   "source": [
    "model.evaluate(x_train.todense(),y_train)"
   ]
  },
  {
   "cell_type": "code",
   "execution_count": 17,
   "metadata": {},
   "outputs": [
    {
     "name": "stdout",
     "output_type": "stream",
     "text": [
      "109/109 [==============================] - 6s 54ms/step - loss: 0.8638 - categorical_accuracy: 0.3786 - precision: 0.5985 - recall: 0.4905\n"
     ]
    },
    {
     "data": {
      "text/plain": [
       "[0.8637751340866089,\n",
       " 0.3786351978778839,\n",
       " 0.5984872579574585,\n",
       " 0.49050381779670715]"
      ]
     },
     "execution_count": 17,
     "metadata": {},
     "output_type": "execute_result"
    }
   ],
   "source": [
    "model.evaluate(x_test.todense(),y_test)"
   ]
  },
  {
   "cell_type": "code",
   "execution_count": 18,
   "metadata": {},
   "outputs": [],
   "source": [
    "y_pred= model.predict(x_test.todense()) "
   ]
  },
  {
   "cell_type": "code",
   "execution_count": 19,
   "metadata": {},
   "outputs": [],
   "source": [
    "def to_score(y_pred,p):\n",
    "    y_pred_scores = y_pred.copy()\n",
    "    for row in y_pred_scores:\n",
    "        m = row.max()\n",
    "        row[row>=m*p]=1\n",
    "        row[row!=1]=0\n",
    "    return y_pred_scores"
   ]
  },
  {
   "cell_type": "code",
   "execution_count": 20,
   "metadata": {},
   "outputs": [],
   "source": [
    "y_pred_scores = to_score(y_pred,0.9)"
   ]
  },
  {
   "cell_type": "code",
   "execution_count": 21,
   "metadata": {},
   "outputs": [],
   "source": [
    "genres = data.columns[1:]"
   ]
  },
  {
   "cell_type": "code",
   "execution_count": 22,
   "metadata": {},
   "outputs": [
    {
     "name": "stdout",
     "output_type": "stream",
     "text": [
      "Action & Adventure\n",
      "Accuracy :  0.844514828678376\n",
      "Precision :  0.7190265486725663\n",
      "Recall :  0.44037940379403795\n",
      "f1 :  0.546218487394958 \n",
      "\n",
      "Animation\n",
      "Accuracy :  0.9680391592283328\n",
      "Precision :  0.7441860465116279\n",
      "Recall :  0.24242424242424243\n",
      "f1 :  0.3657142857142857 \n",
      "\n",
      "Art House & International\n",
      "Accuracy :  0.8358767636049524\n",
      "Precision :  0.35511363636363635\n",
      "Recall :  0.2670940170940171\n",
      "f1 :  0.30487804878048774 \n",
      "\n",
      "Classics\n",
      "Accuracy :  0.9107399942412899\n",
      "Precision :  0.6201550387596899\n",
      "Recall :  0.23460410557184752\n",
      "f1 :  0.34042553191489366 \n",
      "\n",
      "Comedy\n",
      "Accuracy :  0.7457529513389001\n",
      "Precision :  0.6089494163424124\n",
      "Recall :  0.5654923215898826\n",
      "f1 :  0.5864168618266978 \n",
      "\n",
      "Documentary\n",
      "Accuracy :  0.9308954794126115\n",
      "Precision :  0.8\n",
      "Recall :  0.531328320802005\n",
      "f1 :  0.6385542168674699 \n",
      "\n",
      "Drama\n",
      "Accuracy :  0.6567808810826374\n",
      "Precision :  0.7070707070707071\n",
      "Recall :  0.6299629433562731\n",
      "f1 :  0.6662933930571108 \n",
      "\n",
      "Horror\n",
      "Accuracy :  0.9116038007486323\n",
      "Precision :  0.6981132075471698\n",
      "Recall :  0.37851662404092073\n",
      "f1 :  0.4908789386401327 \n",
      "\n",
      "Kids & Family\n",
      "Accuracy :  0.9424128995105097\n",
      "Precision :  0.6\n",
      "Recall :  0.24770642201834864\n",
      "f1 :  0.3506493506493507 \n",
      "\n",
      "Musical & Performing Arts\n",
      "Accuracy :  0.943276706017852\n",
      "Precision :  0.5486725663716814\n",
      "Recall :  0.2980769230769231\n",
      "f1 :  0.3862928348909657 \n",
      "\n",
      "Mystery & Suspense\n",
      "Accuracy :  0.8162971494385257\n",
      "Precision :  0.5641025641025641\n",
      "Recall :  0.31976744186046513\n",
      "f1 :  0.40816326530612246 \n",
      "\n",
      "Romance\n",
      "Accuracy :  0.8747480564353585\n",
      "Precision :  0.4246031746031746\n",
      "Recall :  0.2695214105793451\n",
      "f1 :  0.32973805855161786 \n",
      "\n",
      "Science Fiction & Fantasy\n",
      "Accuracy :  0.9136193492657645\n",
      "Precision :  0.7226277372262774\n",
      "Recall :  0.2742382271468144\n",
      "f1 :  0.39759036144578314 \n",
      "\n",
      "Special Interest\n",
      "Accuracy :  0.9280161243881371\n",
      "Precision :  0.4603174603174603\n",
      "Recall :  0.11836734693877551\n",
      "f1 :  0.1883116883116883 \n",
      "\n"
     ]
    }
   ],
   "source": [
    "for i,genre in enumerate(genres):\n",
    "    accuracy = accuracy_score(y_test.iloc[:,i],y_pred_scores[:,i])\n",
    "    precision = precision_score(y_test.iloc[:,i],y_pred_scores[:,i])\n",
    "    recall = recall_score(y_test.iloc[:,i],y_pred_scores[:,i])\n",
    "    f1 = f1_score(y_test.iloc[:,i],y_pred_scores[:,i])\n",
    "    print(genre)\n",
    "    print(\"Accuracy : \",accuracy)\n",
    "    print(\"Precision : \",precision)\n",
    "    print(\"Recall : \",recall)\n",
    "    print(\"f1 : \",f1,\"\\n\")"
   ]
  },
  {
   "cell_type": "code",
   "execution_count": 23,
   "metadata": {},
   "outputs": [],
   "source": [
    "test_movies={\n",
    "    \"Breaking Bad\":\"When Walter White, a New Mexico chemistry teacher, is diagnosed with Stage III cancer and given a prognosis\\\n",
    "    of only two years left to live. He becomes filled with a sense of fearlessness and an unrelenting desire to secure his \\\n",
    "    family's financial future at any cost as he enters the dangerous world of drugs and crime.\",\n",
    "    \"Game of thrones\":\"Seven noble families fight for control of the mythical land of Westeros. Friction between the houses \\\n",
    "    leads to full-scale war. All while a very ancient evil awakens in the farthest north. Amidst the war, a neglected military \\\n",
    "    order of misfits, the Night's Watch, is all that stands between the realms of men and icy horrors beyond.\"}"
   ]
  },
  {
   "cell_type": "code",
   "execution_count": 28,
   "metadata": {},
   "outputs": [],
   "source": [
    "score = model.predict(tfdif.transform([test_movies[\"Game of thrones\"]]).todense())"
   ]
  },
  {
   "cell_type": "code",
   "execution_count": 29,
   "metadata": {},
   "outputs": [
    {
     "data": {
      "text/plain": [
       "['Science Fiction & Fantasy']"
      ]
     },
     "execution_count": 29,
     "metadata": {},
     "output_type": "execute_result"
    }
   ],
   "source": [
    "list(genres[(to_score(score,0.95)==1)[0]])"
   ]
  },
  {
   "cell_type": "code",
   "execution_count": null,
   "metadata": {},
   "outputs": [],
   "source": []
  },
  {
   "cell_type": "code",
   "execution_count": null,
   "metadata": {},
   "outputs": [],
   "source": []
  }
 ],
 "metadata": {
  "kernelspec": {
   "display_name": "Python 3",
   "language": "python",
   "name": "python3"
  },
  "language_info": {
   "codemirror_mode": {
    "name": "ipython",
    "version": 3
   },
   "file_extension": ".py",
   "mimetype": "text/x-python",
   "name": "python",
   "nbconvert_exporter": "python",
   "pygments_lexer": "ipython3",
   "version": "3.8.5"
  }
 },
 "nbformat": 4,
 "nbformat_minor": 4
}
